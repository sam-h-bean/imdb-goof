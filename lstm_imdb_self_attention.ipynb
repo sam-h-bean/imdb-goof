{
  "nbformat": 4,
  "nbformat_minor": 0,
  "metadata": {
    "accelerator": "GPU",
    "colab": {
      "name": "lstm_imdb.ipynb",
      "provenance": [],
      "collapsed_sections": [],
      "toc_visible": true,
      "authorship_tag": "ABX9TyMq40Dlexe9S+o75CXoL7KR",
      "include_colab_link": true
    },
    "kernelspec": {
      "display_name": "Python 3",
      "name": "python3"
    },
    "language_info": {
      "name": "python"
    }
  },
  "cells": [
    {
      "cell_type": "markdown",
      "metadata": {
        "id": "view-in-github",
        "colab_type": "text"
      },
      "source": [
        "<a href=\"https://colab.research.google.com/github/sam-h-bean/imdb-goof/blob/master/lstm_imdb_self_attention.ipynb\" target=\"_parent\"><img src=\"https://colab.research.google.com/assets/colab-badge.svg\" alt=\"Open In Colab\"/></a>"
      ]
    },
    {
      "cell_type": "markdown",
      "metadata": {
        "id": "zKV6TSqdv42f"
      },
      "source": [
        "# IMDb Sentiment Analysis Goof"
      ]
    },
    {
      "cell_type": "markdown",
      "metadata": {
        "id": "BjxU9ghwwmGp"
      },
      "source": [
        "## Import dependencies"
      ]
    },
    {
      "cell_type": "code",
      "metadata": {
        "id": "H2KMtfVpwoYO"
      },
      "source": [
        "import keras\n",
        "from keras.datasets import imdb\n",
        "from keras.preprocessing import sequence\n",
        "from keras.models import Sequential\n",
        "from keras.layers import Dense, Embedding, LSTM, Bidirectional\n",
        "\n",
        "import matplotlib.pyplot as plt"
      ],
      "execution_count": 39,
      "outputs": []
    },
    {
      "cell_type": "markdown",
      "metadata": {
        "id": "B5VcK_azrwSE"
      },
      "source": [
        "### Constants"
      ]
    },
    {
      "cell_type": "code",
      "metadata": {
        "id": "OkJOQXtMrt-1"
      },
      "source": [
        "max_features = 10000  # number of words to consider as features\n",
        "maxlen = 500  # cut texts after this number of words (among top max_features most common words)\n",
        "batch_size = 32\n",
        "embedding_dimmension = 32\n",
        "lstm_units = 32\n",
        "training_set_size = 25000\n",
        "steps_per_epoch = training_set_size // batch_size"
      ],
      "execution_count": 42,
      "outputs": []
    },
    {
      "cell_type": "markdown",
      "metadata": {
        "id": "QlpuUevjr0MH"
      },
      "source": [
        "### Load IMDb"
      ]
    },
    {
      "cell_type": "code",
      "metadata": {
        "colab": {
          "base_uri": "https://localhost:8080/"
        },
        "id": "9VnDQPMEwdrg",
        "outputId": "d4f76a8c-2a9d-4819-c8e6-d976c93fcb5e"
      },
      "source": [
        "print('Loading data...')\n",
        "(input_train, y_train), (input_test, y_test) = imdb.load_data(num_words=max_features)\n",
        "print(len(input_train), 'train sequences')\n",
        "print(len(input_test), 'test sequences')\n",
        "\n",
        "print('Pad sequences (samples x time)')\n",
        "input_train = sequence.pad_sequences(input_train, maxlen=maxlen)\n",
        "input_test = sequence.pad_sequences(input_test, maxlen=maxlen)\n",
        "print('input_train shape:', input_train.shape)\n",
        "print('input_test shape:', input_test.shape)"
      ],
      "execution_count": 4,
      "outputs": [
        {
          "output_type": "stream",
          "text": [
            "Loading data...\n",
            "Downloading data from https://storage.googleapis.com/tensorflow/tf-keras-datasets/imdb.npz\n",
            "17465344/17464789 [==============================] - 0s 0us/step\n",
            "17473536/17464789 [==============================] - 0s 0us/step\n"
          ],
          "name": "stdout"
        },
        {
          "output_type": "stream",
          "text": [
            "<string>:6: VisibleDeprecationWarning: Creating an ndarray from ragged nested sequences (which is a list-or-tuple of lists-or-tuples-or ndarrays with different lengths or shapes) is deprecated. If you meant to do this, you must specify 'dtype=object' when creating the ndarray\n",
            "/usr/local/lib/python3.7/dist-packages/keras/datasets/imdb.py:155: VisibleDeprecationWarning: Creating an ndarray from ragged nested sequences (which is a list-or-tuple of lists-or-tuples-or ndarrays with different lengths or shapes) is deprecated. If you meant to do this, you must specify 'dtype=object' when creating the ndarray\n",
            "  x_train, y_train = np.array(xs[:idx]), np.array(labels[:idx])\n",
            "/usr/local/lib/python3.7/dist-packages/keras/datasets/imdb.py:156: VisibleDeprecationWarning: Creating an ndarray from ragged nested sequences (which is a list-or-tuple of lists-or-tuples-or ndarrays with different lengths or shapes) is deprecated. If you meant to do this, you must specify 'dtype=object' when creating the ndarray\n",
            "  x_test, y_test = np.array(xs[idx:]), np.array(labels[idx:])\n"
          ],
          "name": "stderr"
        },
        {
          "output_type": "stream",
          "text": [
            "25000 train sequences\n",
            "25000 test sequences\n",
            "Pad sequences (samples x time)\n",
            "input_train shape: (25000, 500)\n",
            "input_test shape: (25000, 500)\n"
          ],
          "name": "stdout"
        }
      ]
    },
    {
      "cell_type": "markdown",
      "metadata": {
        "id": "NWIQYVvjwtiE"
      },
      "source": [
        "### Define and train the model"
      ]
    },
    {
      "cell_type": "markdown",
      "metadata": {
        "id": "5dL2ghEoswld"
      },
      "source": [
        ""
      ]
    },
    {
      "cell_type": "code",
      "metadata": {
        "colab": {
          "base_uri": "https://localhost:8080/"
        },
        "id": "i0NjVQPxvmms",
        "outputId": "2c64d372-a216-4fdd-956a-937e7e2ca58b"
      },
      "source": [
        "inputs = keras.Input(shape=(maxlen,))\n",
        "x = keras.layers.Embedding(input_dim=max_features, output_dim=embedding_dimmension)(inputs)\n",
        "x = keras.layers.MultiHeadAttention(num_heads=5, key_dim=embedding_dimmension, dropout=0.1)(x, x)\n",
        "x = keras.layers.Bidirectional(keras.layers.LSTM(units=lstm_units, dropout=0.2))(x)\n",
        "x = keras.layers.LayerNormalization()(x)\n",
        "x = keras.layers.Dense(units=100, activation='sigmoid')(x)\n",
        "x = keras.layers.Dropout(rate=0.5)(x)\n",
        "outputs = keras.layers.Dense(units=1, activation='sigmoid')(x)\n",
        "\n",
        "model = keras.Model(inputs=inputs, outputs=outputs)\n",
        "\n",
        "print(model.summary())\n",
        "\n",
        "optimizer=keras.optimizers.Adam(amsgrad=True)\n",
        "model.compile(optimizer=optimizer, loss='binary_crossentropy', metrics=['acc'])\n",
        "\n",
        "early_stopping = keras.callbacks.EarlyStopping(monitor='val_acc', patience=10, restore_best_weights=True)\n",
        "reduce_learning_rate = keras.callbacks.ReduceLROnPlateau(monitor='val_acc', factor=0.1, patience=3)\n",
        "callbacks = [early_stopping, reduce_learning_rate]\n",
        "history = model.fit(input_train, y_train,\n",
        "                    epochs=100,\n",
        "                    batch_size=128,\n",
        "                    validation_split=0.0,\n",
        "                    callbacks=callbacks)"
      ],
      "execution_count": null,
      "outputs": [
        {
          "output_type": "stream",
          "text": [
            "Model: \"model_21\"\n",
            "__________________________________________________________________________________________________\n",
            "Layer (type)                    Output Shape         Param #     Connected to                     \n",
            "==================================================================================================\n",
            "input_30 (InputLayer)           [(None, 500)]        0                                            \n",
            "__________________________________________________________________________________________________\n",
            "embedding_29 (Embedding)        (None, 500, 32)      320000      input_30[0][0]                   \n",
            "__________________________________________________________________________________________________\n",
            "multi_head_attention_29 (MultiH (None, 500, 32)      20992       embedding_29[0][0]               \n",
            "                                                                 embedding_29[0][0]               \n",
            "__________________________________________________________________________________________________\n",
            "bidirectional_22 (Bidirectional (None, 64)           16640       multi_head_attention_29[0][0]    \n",
            "__________________________________________________________________________________________________\n",
            "layer_normalization_6 (LayerNor (None, 64)           128         bidirectional_22[0][0]           \n",
            "__________________________________________________________________________________________________\n",
            "dense_47 (Dense)                (None, 100)          6500        layer_normalization_6[0][0]      \n",
            "__________________________________________________________________________________________________\n",
            "dropout_18 (Dropout)            (None, 100)          0           dense_47[0][0]                   \n",
            "__________________________________________________________________________________________________\n",
            "dense_48 (Dense)                (None, 1)            101         dropout_18[0][0]                 \n",
            "==================================================================================================\n",
            "Total params: 364,361\n",
            "Trainable params: 364,361\n",
            "Non-trainable params: 0\n",
            "__________________________________________________________________________________________________\n",
            "None\n",
            "Epoch 1/100\n",
            "196/196 [==============================] - 27s 119ms/step - loss: 0.6997 - acc: 0.5344\n",
            "WARNING:tensorflow:Early stopping conditioned on metric `val_acc` which is not available. Available metrics are: loss,acc\n",
            "WARNING:tensorflow:Learning rate reduction is conditioned on metric `val_acc` which is not available. Available metrics are: loss,acc,lr\n",
            "Epoch 2/100\n",
            "196/196 [==============================] - 23s 120ms/step - loss: 0.2712 - acc: 0.8955\n",
            "WARNING:tensorflow:Early stopping conditioned on metric `val_acc` which is not available. Available metrics are: loss,acc\n",
            "WARNING:tensorflow:Learning rate reduction is conditioned on metric `val_acc` which is not available. Available metrics are: loss,acc,lr\n",
            "Epoch 3/100\n",
            "196/196 [==============================] - 23s 120ms/step - loss: 0.1857 - acc: 0.9361\n",
            "WARNING:tensorflow:Early stopping conditioned on metric `val_acc` which is not available. Available metrics are: loss,acc\n",
            "WARNING:tensorflow:Learning rate reduction is conditioned on metric `val_acc` which is not available. Available metrics are: loss,acc,lr\n",
            "Epoch 4/100\n",
            "196/196 [==============================] - 24s 121ms/step - loss: 0.1512 - acc: 0.9479\n",
            "WARNING:tensorflow:Early stopping conditioned on metric `val_acc` which is not available. Available metrics are: loss,acc\n",
            "WARNING:tensorflow:Learning rate reduction is conditioned on metric `val_acc` which is not available. Available metrics are: loss,acc,lr\n",
            "Epoch 5/100\n",
            "196/196 [==============================] - 24s 121ms/step - loss: 0.1246 - acc: 0.9592\n",
            "WARNING:tensorflow:Early stopping conditioned on metric `val_acc` which is not available. Available metrics are: loss,acc\n",
            "WARNING:tensorflow:Learning rate reduction is conditioned on metric `val_acc` which is not available. Available metrics are: loss,acc,lr\n",
            "Epoch 6/100\n",
            "196/196 [==============================] - 24s 121ms/step - loss: 0.1153 - acc: 0.9623\n",
            "WARNING:tensorflow:Early stopping conditioned on metric `val_acc` which is not available. Available metrics are: loss,acc\n",
            "WARNING:tensorflow:Learning rate reduction is conditioned on metric `val_acc` which is not available. Available metrics are: loss,acc,lr\n",
            "Epoch 7/100\n",
            "196/196 [==============================] - 24s 121ms/step - loss: 0.0985 - acc: 0.9705\n",
            "WARNING:tensorflow:Early stopping conditioned on metric `val_acc` which is not available. Available metrics are: loss,acc\n",
            "WARNING:tensorflow:Learning rate reduction is conditioned on metric `val_acc` which is not available. Available metrics are: loss,acc,lr\n",
            "Epoch 8/100\n",
            "196/196 [==============================] - 24s 121ms/step - loss: 0.0905 - acc: 0.9716\n",
            "WARNING:tensorflow:Early stopping conditioned on metric `val_acc` which is not available. Available metrics are: loss,acc\n",
            "WARNING:tensorflow:Learning rate reduction is conditioned on metric `val_acc` which is not available. Available metrics are: loss,acc,lr\n",
            "Epoch 9/100\n",
            "196/196 [==============================] - 24s 121ms/step - loss: 0.0677 - acc: 0.9827\n",
            "WARNING:tensorflow:Early stopping conditioned on metric `val_acc` which is not available. Available metrics are: loss,acc\n",
            "WARNING:tensorflow:Learning rate reduction is conditioned on metric `val_acc` which is not available. Available metrics are: loss,acc,lr\n",
            "Epoch 10/100\n",
            "196/196 [==============================] - 24s 121ms/step - loss: 0.0607 - acc: 0.9849\n",
            "WARNING:tensorflow:Early stopping conditioned on metric `val_acc` which is not available. Available metrics are: loss,acc\n",
            "WARNING:tensorflow:Learning rate reduction is conditioned on metric `val_acc` which is not available. Available metrics are: loss,acc,lr\n",
            "Epoch 11/100\n",
            "196/196 [==============================] - 24s 122ms/step - loss: 0.0582 - acc: 0.9858\n",
            "WARNING:tensorflow:Early stopping conditioned on metric `val_acc` which is not available. Available metrics are: loss,acc\n",
            "WARNING:tensorflow:Learning rate reduction is conditioned on metric `val_acc` which is not available. Available metrics are: loss,acc,lr\n",
            "Epoch 12/100\n",
            "196/196 [==============================] - 24s 122ms/step - loss: 0.0502 - acc: 0.9882\n",
            "WARNING:tensorflow:Early stopping conditioned on metric `val_acc` which is not available. Available metrics are: loss,acc\n",
            "WARNING:tensorflow:Learning rate reduction is conditioned on metric `val_acc` which is not available. Available metrics are: loss,acc,lr\n",
            "Epoch 13/100\n",
            "196/196 [==============================] - 24s 122ms/step - loss: 0.0613 - acc: 0.9830\n",
            "WARNING:tensorflow:Early stopping conditioned on metric `val_acc` which is not available. Available metrics are: loss,acc\n",
            "WARNING:tensorflow:Learning rate reduction is conditioned on metric `val_acc` which is not available. Available metrics are: loss,acc,lr\n",
            "Epoch 14/100\n",
            "196/196 [==============================] - 24s 122ms/step - loss: 0.0570 - acc: 0.9835\n",
            "WARNING:tensorflow:Early stopping conditioned on metric `val_acc` which is not available. Available metrics are: loss,acc\n",
            "WARNING:tensorflow:Learning rate reduction is conditioned on metric `val_acc` which is not available. Available metrics are: loss,acc,lr\n",
            "Epoch 15/100\n",
            "196/196 [==============================] - 24s 121ms/step - loss: 0.0512 - acc: 0.9880\n",
            "WARNING:tensorflow:Early stopping conditioned on metric `val_acc` which is not available. Available metrics are: loss,acc\n",
            "WARNING:tensorflow:Learning rate reduction is conditioned on metric `val_acc` which is not available. Available metrics are: loss,acc,lr\n",
            "Epoch 16/100\n",
            "196/196 [==============================] - 24s 122ms/step - loss: 0.0345 - acc: 0.9934\n",
            "WARNING:tensorflow:Early stopping conditioned on metric `val_acc` which is not available. Available metrics are: loss,acc\n",
            "WARNING:tensorflow:Learning rate reduction is conditioned on metric `val_acc` which is not available. Available metrics are: loss,acc,lr\n",
            "Epoch 17/100\n",
            "196/196 [==============================] - 24s 122ms/step - loss: 0.0332 - acc: 0.9934\n",
            "WARNING:tensorflow:Early stopping conditioned on metric `val_acc` which is not available. Available metrics are: loss,acc\n",
            "WARNING:tensorflow:Learning rate reduction is conditioned on metric `val_acc` which is not available. Available metrics are: loss,acc,lr\n",
            "Epoch 18/100\n",
            "196/196 [==============================] - 24s 122ms/step - loss: 0.0367 - acc: 0.9925\n",
            "WARNING:tensorflow:Early stopping conditioned on metric `val_acc` which is not available. Available metrics are: loss,acc\n",
            "WARNING:tensorflow:Learning rate reduction is conditioned on metric `val_acc` which is not available. Available metrics are: loss,acc,lr\n",
            "Epoch 19/100\n",
            "196/196 [==============================] - 24s 122ms/step - loss: 0.0440 - acc: 0.9900\n",
            "WARNING:tensorflow:Early stopping conditioned on metric `val_acc` which is not available. Available metrics are: loss,acc\n",
            "WARNING:tensorflow:Learning rate reduction is conditioned on metric `val_acc` which is not available. Available metrics are: loss,acc,lr\n",
            "Epoch 20/100\n",
            "196/196 [==============================] - 24s 122ms/step - loss: 0.0265 - acc: 0.9954\n",
            "WARNING:tensorflow:Early stopping conditioned on metric `val_acc` which is not available. Available metrics are: loss,acc\n",
            "WARNING:tensorflow:Learning rate reduction is conditioned on metric `val_acc` which is not available. Available metrics are: loss,acc,lr\n",
            "Epoch 21/100\n",
            "196/196 [==============================] - 24s 122ms/step - loss: 0.0297 - acc: 0.9951\n",
            "WARNING:tensorflow:Early stopping conditioned on metric `val_acc` which is not available. Available metrics are: loss,acc\n",
            "WARNING:tensorflow:Learning rate reduction is conditioned on metric `val_acc` which is not available. Available metrics are: loss,acc,lr\n",
            "Epoch 22/100\n",
            "196/196 [==============================] - 24s 122ms/step - loss: 0.0353 - acc: 0.9933\n",
            "WARNING:tensorflow:Early stopping conditioned on metric `val_acc` which is not available. Available metrics are: loss,acc\n",
            "WARNING:tensorflow:Learning rate reduction is conditioned on metric `val_acc` which is not available. Available metrics are: loss,acc,lr\n",
            "Epoch 23/100\n",
            "196/196 [==============================] - 24s 122ms/step - loss: 0.0347 - acc: 0.9938\n",
            "WARNING:tensorflow:Early stopping conditioned on metric `val_acc` which is not available. Available metrics are: loss,acc\n",
            "WARNING:tensorflow:Learning rate reduction is conditioned on metric `val_acc` which is not available. Available metrics are: loss,acc,lr\n",
            "Epoch 24/100\n",
            "196/196 [==============================] - 24s 122ms/step - loss: 0.0350 - acc: 0.9934\n",
            "WARNING:tensorflow:Early stopping conditioned on metric `val_acc` which is not available. Available metrics are: loss,acc\n",
            "WARNING:tensorflow:Learning rate reduction is conditioned on metric `val_acc` which is not available. Available metrics are: loss,acc,lr\n",
            "Epoch 25/100\n",
            "196/196 [==============================] - 24s 122ms/step - loss: 0.0353 - acc: 0.9925\n",
            "WARNING:tensorflow:Early stopping conditioned on metric `val_acc` which is not available. Available metrics are: loss,acc\n",
            "WARNING:tensorflow:Learning rate reduction is conditioned on metric `val_acc` which is not available. Available metrics are: loss,acc,lr\n",
            "Epoch 26/100\n",
            "196/196 [==============================] - 24s 122ms/step - loss: 0.0293 - acc: 0.9944\n",
            "WARNING:tensorflow:Early stopping conditioned on metric `val_acc` which is not available. Available metrics are: loss,acc\n",
            "WARNING:tensorflow:Learning rate reduction is conditioned on metric `val_acc` which is not available. Available metrics are: loss,acc,lr\n",
            "Epoch 27/100\n",
            "196/196 [==============================] - 24s 122ms/step - loss: 0.0277 - acc: 0.9958\n",
            "WARNING:tensorflow:Early stopping conditioned on metric `val_acc` which is not available. Available metrics are: loss,acc\n",
            "WARNING:tensorflow:Learning rate reduction is conditioned on metric `val_acc` which is not available. Available metrics are: loss,acc,lr\n",
            "Epoch 28/100\n",
            "196/196 [==============================] - 24s 122ms/step - loss: 0.0281 - acc: 0.9954\n",
            "WARNING:tensorflow:Early stopping conditioned on metric `val_acc` which is not available. Available metrics are: loss,acc\n",
            "WARNING:tensorflow:Learning rate reduction is conditioned on metric `val_acc` which is not available. Available metrics are: loss,acc,lr\n",
            "Epoch 29/100\n",
            "169/196 [========================>.....] - ETA: 3s - loss: 0.0298 - acc: 0.9947"
          ],
          "name": "stdout"
        }
      ]
    },
    {
      "cell_type": "markdown",
      "metadata": {
        "id": "GRdwrJp8H5xX"
      },
      "source": [
        "# Evaluate on test set"
      ]
    },
    {
      "cell_type": "code",
      "metadata": {
        "colab": {
          "base_uri": "https://localhost:8080/"
        },
        "id": "T4JieWqPH8tj",
        "outputId": "efb1babc-2eea-4dfe-e420-4c01568d2898"
      },
      "source": [
        "scores = model.evaluate(input_test, y_test, verbose=0)\n",
        "print(\"Accuracy: %.2f%%\" % (scores[1] * 100))"
      ],
      "execution_count": 46,
      "outputs": [
        {
          "output_type": "stream",
          "text": [
            "Accuracy: 88.92%\n"
          ],
          "name": "stdout"
        }
      ]
    },
    {
      "cell_type": "markdown",
      "metadata": {
        "id": "yjaTRRwaw01K"
      },
      "source": [
        "## Plot results"
      ]
    },
    {
      "cell_type": "code",
      "metadata": {
        "colab": {
          "base_uri": "https://localhost:8080/",
          "height": 545
        },
        "id": "lUqCVhbIw2C4",
        "outputId": "1f162f61-d23d-4566-fbed-44981f735d5b"
      },
      "source": [
        "acc = history.history['acc']\n",
        "val_acc = history.history['val_acc']\n",
        "loss = history.history['loss']\n",
        "val_loss = history.history['val_loss']\n",
        "\n",
        "epochs = range(len(acc))\n",
        "\n",
        "plt.plot(epochs, acc, 'bo', label='Training acc')\n",
        "plt.plot(epochs, val_acc, 'b', label='Validation acc')\n",
        "plt.title('Training and validation accuracy')\n",
        "plt.legend()\n",
        "\n",
        "plt.figure()\n",
        "\n",
        "plt.plot(epochs, loss, 'bo', label='Training loss')\n",
        "plt.plot(epochs, val_loss, 'b', label='Validation loss')\n",
        "plt.title('Training and validation loss')\n",
        "plt.legend()\n",
        "\n",
        "plt.show()"
      ],
      "execution_count": 22,
      "outputs": [
        {
          "output_type": "display_data",
          "data": {
            "image/png": "[encoded data removed]",
            "text/plain": [
              "<Figure size 432x288 with 1 Axes>"
            ]
          },
          "metadata": {
            "tags": [],
            "needs_background": "light"
          }
        },
        {
          "output_type": "display_data",
          "data": {
            "image/png": "[encoded data removed]",
            "text/plain": [
              "<Figure size 432x288 with 1 Axes>"
            ]
          },
          "metadata": {
            "tags": [],
            "needs_background": "light"
          }
        }
      ]
    },
    {
      "cell_type": "code",
      "metadata": {
        "id": "zk-n_Hl5Qqvo"
      },
      "source": [
        ""
      ],
      "execution_count": null,
      "outputs": []
    }
  ]
}